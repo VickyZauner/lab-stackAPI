{
 "cells": [
  {
   "cell_type": "markdown",
   "metadata": {},
   "source": [
    "# StackAPI\n",
    "\n",
    "#### Import the necessary libraries here:"
   ]
  },
  {
   "cell_type": "code",
   "execution_count": 1,
   "metadata": {},
   "outputs": [],
   "source": [
    "# importing all libraries\n",
    "\n",
    "import json\n",
    "import requests\n",
    "import pandas as pd\n",
    "import numpy as np\n",
    "from sqlalchemy import create_engine\n",
    "import pymysql\n",
    "from stackapi import StackAPI\n"
   ]
  },
  {
   "cell_type": "code",
   "execution_count": 2,
   "metadata": {},
   "outputs": [
    {
     "name": "stdout",
     "output_type": "stream",
     "text": [
      "1569880800.0\n"
     ]
    }
   ],
   "source": [
    "# determining the timestamp with python\n",
    "\n",
    "import time\n",
    "print(time.mktime(time.strptime('01/10/2019', \"%d/%m/%Y\")))"
   ]
  },
  {
   "cell_type": "markdown",
   "metadata": {},
   "source": [
    "#### Question 1: Find the questions and answers of last month."
   ]
  },
  {
   "cell_type": "code",
   "execution_count": 3,
   "metadata": {},
   "outputs": [],
   "source": [
    "# using data from the stackoverflow API, spcifying the data\n",
    "\n",
    "site = StackAPI(\"stackoverflow\")\n",
    "questions = site.fetch('questions', fromdate=1583017200, todate=1585692000)"
   ]
  },
  {
   "cell_type": "code",
   "execution_count": 8,
   "metadata": {},
   "outputs": [],
   "source": [
    "answers = site.fetch('answers', fromdate=1583017200, todate=1585692000)"
   ]
  },
  {
   "cell_type": "code",
   "execution_count": 9,
   "metadata": {},
   "outputs": [
    {
     "data": {
      "text/plain": [
       "'Php get/iterate the values of a particular session'"
      ]
     },
     "execution_count": 9,
     "metadata": {},
     "output_type": "execute_result"
    }
   ],
   "source": [
    "# determining the format of the dictionairy and the path to access desired information\n",
    "questions['items'][0]['title']"
   ]
  },
  {
   "cell_type": "code",
   "execution_count": 10,
   "metadata": {},
   "outputs": [],
   "source": [
    "# create a for loop to access items and appeabsnd list of items to an empty list, access one by one and extract the titles\n",
    "list_of_items = []\n",
    "list_of_questions = []\n",
    "\n",
    "for question in questions['items']:\n",
    "    list_of_items.append(question)\n",
    "\n",
    "for i in range(len(list_of_items)):\n",
    "    list_of_questions.append(list_of_items[i]['title'])\n"
   ]
  },
  {
   "cell_type": "code",
   "execution_count": 11,
   "metadata": {},
   "outputs": [
    {
     "name": "stdout",
     "output_type": "stream",
     "text": [
      "['Php get/iterate the values of a particular session', 'Add CSS Class to php', 'Fetch data from NewsApi (react, axios)', 'BigQuery Geo Viz query external Google sheet , authorization error', 'DBeaver localhost PostgreSQL connection refused', 'Close/exit a PWA programmatically', 'is there anyone who can help me why ShowDetail.html page is not opening when i am submitting my form', 'Angular 9: Value at position X in the NgModule.imports is not a reference', 'Azure Logic App - Issue with double quotes in Liquid Map', 'Let Android app handle link URLs with configurable domain', 'How can i ignore the rest of the input in C?', 'Navigating inside a floating action button', 'Skip while inserting if object with the same property value already exists', 'Reactjs development server won&#39;t start on macos catalina', 'How to create a custom Allure step function for sensible data', 'WARNING: findDOMNode is deprecated in StrictMode, react-redux-notify', 'Tensorflow 2 /Google Colab / EfficientNet Training - AttributeError: &#39;Node&#39; object has no attribute &#39;output_masks&#39;', 'Why does MediaMetadataRetriever return null for some keys but not when i query MediaStore', 'How to handle optional arguments when updating rows in Python&#39;s sqlite3 module?', 'Flask-Marshmallow AttributeError: List Object has no Attribute &#39;data&#39;', 'Right way to get insets', 'Unit test for aws lambda using jest', 'How to make scroll upto selected textfield using TPKeyboardAvoidingScrollView in swift', 'Marker doesn&#39;t get added on map', 'How to destroy existing bean and replace with new definition Spring - during Runtime', 'Dynamically change input size using ajax', 'How to use data in deck.gl?', 'deck.gl TripLayer plotting single path', 'How to make an enum-like Unity inspector drop-down menu from a string array with C#?', 'How to use python to access DOORS content?', 'Perl function for slicing string with start, end and step', 'RabbitMQ queues not getting deleted despite reinstalling Erlang and RabbitMQ', 'Column-wise zscore using row mean and row standard deviation in R', 'Updating NewRelic version throwing AbstractMethodError at runtime', 'Azure NotificationHubClient throws SocketException when used on Azure function intensively', 'How to trigger PER-APP-VPN using NEVPNManager class in iOS using Swift4', 'Could not import local modules in Golang', 'Getting error when trying to torch stack a list of tensors', 'body2 is deprecated and shouldn&#39;t be used. This is the term used in the 2014 version of material design. - warning message in flutter', 'how to use async await in nodejs? error while using async await', 'Tunnel ---------ngrok.io not found', 'How to load fabric client certs in google cloud function?', 'OpenCV-python not importing', 'How to set username and password from database in Ranorex?', 'Loopback 4 controller Omit&lt;T,K&gt;', 'Update CustomContainer children TouchGFX', 'Stack Overflow for Fractional Knapsack', 'Cannot access &#39;android.arch.lifecycle.LifecycleOwner&#39; which is a supertype of &#39;com.ex.app.MainActivity&#39;', 'What is the proper way to implement Serilog Contextual logger injection for Autofac in Clean Architecture?', 'Can Helm conditionally install main chart based on parameter in values.yaml', 'Rearanging table structure based on number of rows and columns pandas', 'How to use a variable within a regex in Javascript?', 'How to run async validation in Form onSumbit', 'See answer keys in Google Form (quiz) source page?', 'why the GridView RowDeleted event is not working with objectdatasource control?', 'tensorflow2.1 inside docker report OOM when creating tf.Variable', 'SSRS: click view report and then show blank', 'cucumberjs unexpected token with imported files that has arrow functions', 'Wordpress ELEMENTOR EDITOR ISSUE', 'Determine if vertices lie inside of a set of vertices', 'Decorate step implementation in Cucumber-js', 'webapi core unable to upload large file blocked by cors policy', 'How to implement an interface, whose two instances can depend on each other, in a skeletal implementation, i.e. class, without downcast?', 'button click prior to scraping html table', '&quot;[CRITICAL] WORKER TIMEOUT&quot; in logs when running &quot;Hello Cloud Run with Python&quot; from GCP Setup Docs', 'Git: Parse branch name from console output?', 'How do I access contents of MTP device with powershell?', 'Filebeat harvest rotated files', 'ModuleNotFoundError: No module named &#39;PIL&#39; when I want to import sparkdl in databricks', '2Checkout 2pay.js and token in test mode?', 'Unexpected errors while testing Python code with doctest', 'ArviZ plot_trace does not properly plot multidimensional variables', 'How to change Dynamics CRM 2016 Grid view default filter option 30 days to all record?', 'Unable to create user and login inside of rails test', 'Swift Encodable, Decodable Vs Codable', 'Oracle Integration Instance not getting created', 'How to move cursor after a specific word in email body', 'Xcode 11.4 - Archiving project - Segmentation Fault 11', 'Key command in Catalyst app using SwiftUI continuously fires', 'What JavaScript/CSS can I inject into my WebView to invert only the background of the page and white text?', 'Date Picker Validation Start Date', 'React App runs locally but crashes with error code=H10 on Heroku', 'Processing 3 Box2D Velocity Not Scaling With Resolution', 'How to save rendered html view files from ExpressJS Routes', 'Can a cognito user pool use SES with a verified domain and not a verified email?', 'GLSL Shaders using Processing Pi on a Pi 3 B+', 'Training ML.NET -- System.OutOfMemoryException', 'SSH Connection failed : Failed to process system configuration files', 'completeMethod event not triggering in primeNG Autocomplete on focus', 'aborting after invariant() failure while starting mongos', 'Appcelerator: Show push messages in the Notification Center when the app is in the foreground (open)', 'Xcode 11.4. Navigation&#39;s Title Color gone BLACK from storyboard', 'Storyboard changes related issue in Xcode and iOS', 'How to disable Svelte warning &quot;Unused CSS selector&quot;', 'Elastic Beanstalk Environment Upgraded - 403 Errors If Origin Is Specified', 'Can I improve this CSV-import query performance?', 'trying to implement breadth first search visualiser need help in animating the process', 'terraform i shown in CMD but it says &quot;command not found&quot; in git bash', 'Java Find the absolute path of dependent jar', 'Example of streaming YouTube audio using FFMPEG', 'Save macro enabled workbook in SharePoint', 'Inferring amortisation, remaining value and new loans from face value data', 'DeepSearch - Return Only The Index Number', 'ionic capacitor push notification not supported in web', 'How do I get this validation code to limit the character length and only allow numbers', 'Send email when Task is Completed - New approach', 'gRPC as Windows Service', 'How to organize a Java Lambda Handler project', 'How can I save a map in PostgreSQL?', 'Mac command line tools 11.4 no longer has svn', 'GitLab CI variables in job api?', 'FTDI library platform differences between Mac and Windows when using JNA', 'I need to animate a set of more than hundred stackpanels in vertical motion in wpf', 'can the ui.inputfield have the data from both text box and input displayed overlaying each other?', 'How do we set database session variables in Hibernate?', 'Bidirectional communiation with websockets in Quart', 'Microsoft Graph API returning 503/504 errors', 'Run python script on Dash-plotly button', 'Template argument deduction/substitution failed when using linearRegression in Eigen 2 library', 'how can i make the threads run in sequential order ? (OpenMP)', 'Pausing and resuming option in azure blob upload using javascript', 'Jenkins pipeline - Get list of vSphere VMs', 'Context getRealPath() for non-existent file', 'Extracting json fields using XSLT', 'adjustViewBounds analogue in Jetpack Compose', 'ECS CLI efsVolumeConfiguration Docker Compose / ECS Params yml', 'Why do I have a mpicc installation error?', 'How to access and process json array sent to a service resource in Ballerina', 'Making random rectangles on Processing', 'MQTT failed with state -2', 'using symfony authenticator with lexik jwt authentication', '.NET MS Interop Word not saving document in UTF8 web page', 'ClassDefNoFound even though the jar that I&#39;m dependent on is in my jar', 'python: can&#39;t connect multiple sockets', 'scipy.optimize differential_evolution seems to ignore population size limit', 'extract structured data from text', 'Creating a report in separate tab based on matching result in another', 'How do I debug in visual studio code a python program that calls c functions in a shared library from a f2py interface', 'Quarkus on Hashicorp Nomad', 'Webpack - TypeError: $ is not a function', 'Input format of generalized dissimilarity model (gdm)', 'I am trying to produce a graph that updates in real time and I am getting the output: &lt;Figure size 432x288 with 0 Axes&gt;', 'Rails 3 CSRF token still submits', 'uuid as primary key and partition key for hash partitioning', 'error while installing GNS3 server from GitHub using pypi2pkgbuild to create PKGBUILD and install everything via pacman', 'MultiProcessing Python not working in windows', 'Datatables processing message location when no scrollbar', 'React navigation drawer content props types definition', 'PY YTD calculated measure that can handle leap years MDX', 'web worker not communicating with react component', 'Cassandra NodeTool Showing value as NaN', 'How to filter mat card in angular', 'How to return a specific property in the message of a RuleForEach validation, using Fluent Validator?', 'Using the value of a variable as the variable name for other pattern in GROK', '3d polyline offset along normal directions', 'Reactjs application build to auto run locally', 'Deduct value from database column and from textBox value in C# and after the deduction the value must be stored in new column', 'NSDocument data:ofType implementation when using NSPrintInfo (storing multiple items)', 'Laravel 5.8 Too few arguments error for jobs', 'JQuery droppable div inside a sortable list', 'Android Kotlin change multi-language', 'Tutorial - Python and pyMySQL Database Navigation PyQt5 Form', 'add div text to input on click', 'Dask apply with custom function', 'userns-remap option in Docker Swarm (existing) installation', 'Bug in C# 8.0 compiler or .NET Core 3 run-time?', 'Macros in Datafusion using Argument setter', 'JPQL Operator returns a java.lang.IllegalStateException - No data type for node: org.hibernate.hql.internal.ast.tree.MethodNode', 'nginx ingress setup up on Azure (not using helm) troubleshooting', 'Turn geometry column into lat/long columns in Geodataframe', 'Change response in WebSphere Liberty CONTEXT_ROOT_NOT_FOUND error', 'Oracle Iterate query result without insert', 'Objective-C open url', 'Get table data in JSON from Oracle DB and load to SQL server DB using Python (3.7)', 'How to display show more only when text overflows from a div using pure css javascript in reactjs', 'fix for discord selfbot please', 'Getting summaries from multiple simple linear regressions in R', 'Blocking Task with Event Flags halts the programm', 'Android 10 device doesn&#39;t start discovery of wifi direct', 'Selenium IDE pull Parameters/Variables from config file running through Selenium-side-runner', 'Starting a Welcome Screen on first startup', 'flutter project not running on ios', 'Android management API service file allocation', 'GCP - run all cells of Jupyter Notebook without open browser and show logs to terminal', 'Remove and Sort Usings not working in Visual Studio 2019', 'Process Pool unreliable, it either gets stuck or it runs fine', 'browser.getProcessedConfig() not working in jenkins', 'How to correctly implement security on a websocket session?', 'OAuth in Angular 9', 'What can be done when a publisher is much more faster that subscriber?', 'Draft-js: Losing cursor with non-editable entity components', 'How to read Data form BigQuery and File system using Apache beam python job in same pipeline?', 'Microsoft Azure Graph API Subscription Errors on Validation request using Custom Api as Listener for notifications', '; (or) operator in Prolog not returning true unless the left side is true, even if the right side of the operator returns true by itself', 'Add node to running cluster elasticsearch causes master not discovered exception', 'apiRTC Voice call also show video of call receiver', 'Symfony fileupload not workig in Firefox but in Chrome', 'Is it safe to promisify requestAnimationFrame?', 'How to resize ClipPath area of SVG?', 'How to call fitBounds and getBounds in react-leaflet?', 'VBA: error when using .ChartData.Workbook.Close-command', 'Can I use non-fine-tuned BERT model from TF HUB to serve it with TF serving?', 'How to add a sheet with non-duplicate name consisting of valid characters?', 'How to deserialize multidimensional JSON', 'Laravel Webrtc video chat with react and pusher', 'ERROR: Module &#39;app&#39;: platform &#39;android-28&#39; not found. and Design editor is unavailable until after a successful project sync', 'Zoom in and out in Adobe Premier Pro', 'invalid index to scalar variable seaborn.lmplot', 'Android ANR - how do I investigate and resolve an ANR?', 'React: How can I route to another page, for example &#39;./login&#39; and &#39;./sign_up&#39; as whole page', 'Referring to a variable mother Class (inheritance)', 'How to catch `Request processing failed` for client param error in spring boot?', 'How to find second and max date and compare these two', 'AWS: Delete lambda layer still retains layer version history', 'How can I add a text link just below the legend box in highcharts', 'Configuring FileHelpers DateTimeConverter format at runtime', 'Resource punkt not found. But, it is downloaded and installed', 'Can I use OpenACC for multi-core CPU?', 'how to import and export date time format data from json to nosql(firestore)', 'How to fill in the space in the imageView for fitStart ScaleType in constraintLayout?', 'how do i make the black pixels in a PImage transparent?', 'Applozic UI: adding custom options', 'How can I read / write a local json or text in Cordova?', 'Function which returns the sum of all parameters', 'Loading big dataset in Tensor Flow and define feature columns', 'How to add or remove the specific HTML exist in selected li tag using jquery?', 'How to configure Firebase Performance Monitoring plugin extension in Gradle Kotlin DSL', 'How can i load a file for multiple methods to access?', 'How to deploy a Kubernetes service using NodePort on Amazon AWS?', 'VoiceOver on macOS - stuck in browsers', 'Flutter :- How to scroll the sceen without shrink the screen on the Stack view?(Scroll the the whole screen when the keyboard appears )', 'mongodb $lookup single field in array subdocument', 'How to save MediaRecorder Web API output to disk using a stream', 'Elasticsearch cloud hosted end point not open in my browser', 'Apache 2.4 maintenance html page image not loading', 'NX - UI Library with Storybook and individually exported components', 'Failed list problem of LeetCode in Visual Studio Code', 'How to display text/button in react-big-calendar cell?', 'How to auto generate postman collections from Spring environment', 'How to find the beginning of a string value in a table with Laravel Eloquent', 'Files and folders on root folder on the server lose first character when downloaded through Remote-FTP on Atom', 'JavaScript methods priority', 'How to disable Chrome autofill (after 2020)', 'Autlib vs OAuthlib: Are these libraries the same?', 'CentOS 7 configured for 2FA SSH access via pam_oath - allows any string 6 characters or less for one-time password', 'Creating nested child entities', 'Pact provider jvm out of memory error in Jenkins', 'Compare two big text files', 'Failed to connect to Amazon MQ with spring-boot 2 and Stomp', 'System cannot find the specified route on creating SparkSession with PySpark', 'Select a particular feature from feature Layer to find intersects in Find Existing Location analysis using ArcGIS API for javascript', 'How to see XML files code in Android Studio 3.6.1', 'Bitbucket YLM pipeline to deploy on Digital Ocean', 'Moving element in canvas copies it multiple times until developer&#39;s console is opened', 'Java - downloading and sending file', 'why do results of clogit and bife function (both in R) differ?', 'flutter - got stuck at splash screen', 'class-transformer Exclude undefined properties', 'Can I add the tested utterances into my LUIS model automatically without review?', 'How to create request with OR in AIF Soap UI', 'Flutter - Building for iOS, but the linked and embedded framework &#39;App.framework&#39; was built for iOS Simulator', 'Getting awk to print a line with a keyword, but only within a range', 'How can I set max and min dynamically in &lt;v-slider&gt; in vue 2.0 when i am extracting max and min from a table', 'React Native contacts: null is not an object', 'how can I print this symbol in PyCharm: &quot;█&quot;', 'React functional component re-renders whole component if defined in another functional component', 'How to get Oracle C++ Call interface (OCCI) working on Visual Studio?', '[INSTALL_FAILED_INVALID_APK]Base.apk is missing with Xamarin.Forms', 'How to get only one value in a variable of parent component, by selecting and switching to any of the option in reactjs?', 'Is there any solution for this error 402620388 message?', 'ModuleNotFoundError: No module named &#39;apidjangowithjwt.emailservice&#39;', 'Adding Protocol Handler in Chrome', 'ng e2e is failing, for chrome driver download location becomes unreachable', 'Authentication options for accessing Solace PubSub+ Manager', 'JavaScript, reduce. Need function that makes array to obj', 'Cloud9 VFS connection does not exist error [Node JS]', 'React SSR - Empty HTML when SSR with D3. Using useEffect hook', 'Cannot install Servicemix', 'How can I call the test case result on runtime to another file to update test case result in testRail?', 'Subtracting a comma separated string from another one in Excel', 'Azure DevOps build pipeline - npm ci - Unexpected end of JSON input', 'Getting CORS error in Firefox for WCF POST REST request', 'How to use DownloadManager on Android 10?', 'How do I prevent BB8 connections to break after several repeats', 'Modules &#39;base&#39; and &#39;instantapp&#39; contain entry &#39;assets/crashlytics-build.properties&#39; with different content', 'Download File from SharePoint using Client Secret Key', 'Android Deep Linking with React Navigation 5', 'Docker,AWS-EKS : Docker-build command, Davfs mount not working, no free coda device to mount', 'How to identify if the centroid point touches a line or not?', 'RecordInvalid troubles when using field_for, validation failed even though property exists?', 'How can I fix &#39;Unhandled Promise Rejection&#39; for my Vue application?', 'I keep getting &quot;Requested resource not found&quot;', 'Angular PWA hash files caching issue', 'How to add SOCP constraints without a memory leak on C++?', 'How to set adf_path and build a project for LYRA-T board?', 'Is BaseGameUtils Still Needed for Leaderboards?', 'Express JS session cleanup', 'path setting difficulty in django urls file', 'partitionBy &amp; overwrite strategy in an Azure DataLake using PySpark in Databricks', 'Posting a js array to PHP and using it in a database query', 'Scandit python code 15 Your app ID does not match the license key&#39;s app ID', 'Docker: No connection could be made because the target machine actively refused it', 'Best way to restore a database with FILESTREAM data using C# (SMO)', 'How to access an array embeded in a json object. Property of the object is undefined when called', 'Are counters thread safe in Micrometer', 'Custom Checkbox Category Selector', 'Browser is hanging whe blazor client exception is inside a div (try catch fails)', 'A string resource from an Android lib overrides a resource from the app with the same name', 'Excel 2013 get sql server data using a query', 'Error while installing Android SDK Tools &#39;commandlinetools-win-6200805_latest&#39;', 'Get all columns into individual series from a pandas dataframe', 'How to iterate json in django template?', 'How can I replace some characters for x in a string?', 'how to check if a word contains number in c', 'Iterate from one data frame to another, error', 'Writing a loop: Beautifulsoup and lxml for getting page-content in a page-to-page skip-setting', 'Print compiled sqlalchemy query', 'Unable to load Schema -- angular.json file', 'Next.js Global CSS cannot be imported from files other than your Custom &lt;App&gt;', 'Typescript: How to suppress &quot;No overload matches this call&quot;?', 'CameraX - crash when unbinding Preview UseCase', 'How to paste a value into Java JOptionPane showInputDialog box other than typing', 'ReactJS resizable panel does not keep value after stop resize event', 'Getting Association error in HasOne relation', 'EF Core: use a dictionary property', 'Why is truffle init failing to download in my linux virtual machine?', 'Trying to add a button on UI [ cloudstack] , But not refelcting in UI [ modifying CSS file &amp; index file also]', 'How can I get the &#39;root&#39; boot arg in kernel space?', 'Problem with clipboard when using extended ASCII characters (chars &gt; 127) on Japanese versions of Windows', 'How can I propagate and catch errors thrown in another thread in Raku?', 'enable local cache on emqx', 'Not able to connect to emqx mqtt broker over wss from https client', 'How does libdl work with linker in android?', 'Eslint/Tslint Config help (excluding files)', 'Moving data from a database to Azure blob storage', 'How i can fix problem with React (A component is changing a controlled input of type undefined to be uncontrolled.)?', 'Ambiguity in Grammars', 'Netsuite Map Reduce yielding', 'rust overflow check on more integer operations in a row', 'how to load different number of string element in every row by numpy', 'How to fix build gradle', 'Is there a way to set up Clap or another arg lib to accept a plain &#39;-&#39; or &#39;+&#39; so that I can obtain argument groups without a named flag?', 'Is there any difference between HighAvailability (HA) for NameNode and HDFS?', 'How to estimate multiplicity of the polynomial root?', 'How can I update the copyright information in hugo theme?', 'Using Netbeans to Deploy JavaFx code to Android Device', 'How to easily transform data organized in columns into a grouped matrix?', 'UnhandledPromiseRejectionWarning: ReferenceError: Storage is not defined', 'Flask Update paths upon deployment', 'How do I add bullets to the .Body section of an email template?', 'Building a recommender system using Surprise', 'How can a webapp using the Google Drive REST API share files with another user using the same app?', 'reCAPTCHA Error: Invalid API parameter(s). Try reloading the page', 'document.getElementById() equivalent in React 2020', 'Date format issue with HIbernate, spring, informix', 'Blender 2.8 snap, knife tool does not work properly', 'Capturing repeated pattern in Python', 'Amazon MQ (ActiveMQ) bad performance on large messages', 'Can&#39;t set Build Action to GoogleServiceJson After Installing Plugin.FirebasePushNotification', 'Installing superset: error: command &#39;gcc&#39; failed with exit status 1', 'How to change the width of the bar in bar chart in react-charts?', 'Fail to play sequence of MP4 videos across trials', 'How solve this issue in react native', 'Reading data from text file', 'Big Cartel change &#39;Sold out&#39; to &#39;Sold&#39;', 'Parsing XML and getting different results when running debugger, vs. just running', 'System.Text.Json.JsonException: &#39;A possible object cycle was detected which is not supported....&#39;', 'Bad looking linear-gradient in Firefox', 'Google Cloud Platform - Use Multiple Service Account', 'How to change shapes of tensorflow placeholder for inference', 'Creating Materialized View in Azure Data Warehouse SQL error', 'error reading shapefile in R that works fine in QGIS', 'Accessing Django generic DetialView directly from CreateView', 'Sonos: Lifetime of event subscriptions', 'Failing to apply material ui overrides in storybook in React app', 'Do I need an AWS Associate Solution architect before I take the AWS Big Data Specialty exam?', 'Do processes ever relinquish memory?', 'Hadoop storage infrastructure always have to use HDFS?', 'Pandas &quot;under the hood&quot;', 'When HIVE sub-query returns null I am getting expected result, but when it returns empty, I got runtimeexception', 'why i am getting Input path E:/New does not exist?', 'Connect Rsyslog to Kafka by Kafka Connect', 'ML for object search', 'How to ignore ssl on the microprofile rest client of quarkus', 'faild to install hdp-select when instlling service in ambari on ubuntu 18.04', 'Mattermost Webhook (Windows): Send table into channel with cURL', 'What’s the best way to handle an &#39;very large&#39; inventory with SQL?', 'Am trying to send a message on Codeigniter 4 but i keep having this error', 'Columns in PowerBi showing data in power query but not in dashboards', 'module initialization error name &#39;event&#39; is not defined', 'Is apache-spark run faster on local?', 'React build failed: cannot read property &#39;name&#39; of undefined', 'How to check how many yarn containers are used and how many are remaining at particular time? Can we pull the report?', 'How to know if any job ran with speculative execution in MapReduce 2.0', 'How to smoothly move a node in an ARkit Scene View based off device motion?', 'Storm yaml file configuration on port 8081 is not working', 'BigQuery scheduling: Error code 3 : user_id has an invalid value of 0', 'integration of multiple databases via talend open studio for big data', 'Triggering ALM test sets (UFT tests) in Jenkins Unix slave', 'lookup for values in two columns in the presence of duplicates in R (edited)', 'JOLT Transformation to Extract Multiple Values from a String inside a Key', 'Spliting Name in Google BigQuery', 'Problems Add/Update Big Data on PostgresSQL', 'Fetching data within time limit without any data loss', 'Non-modal wizard in VMWare Clarity and Angular', 'Is merging index A and Index B, into and index C, is possible in elasticsearch 6.x?', 'Multiprocessing with dictionary of generator objects, TypeError: cannot pickle &#39;generator&#39; object', 'What is this called and how to achieve! Visuals in processing', 'Right click operation on SwfTable column header in UFT', 'Is there any solution for https://issues.apache.org/jira/browse/STORM-2995? Workers are taking hours to initialize', 'How to convert the key into a int from string in map reduce', 'metadata driven processing of sensor data', 'Efficiently splitting Spark DataFrame into two with filtering only once', 'AWS DMS Batch apply mode to S3 target', 'I want to get key events without using tkinter. Should I use Pynput? How can I do this?', 'Is it possible to put different structure CSV files into one Parquet file?', 'How to use the Parquet UUID Logical Type in a schema', 'Spark 1.6: Store dataframe into multiple csv file in hdfs (partition by id)', 'Understand the pricing of Appscript alone and not the entire GSuite for our existing GCP', 'How to divide two aggreate sum dataframe', 'How to set texture of shader graph material via script with URP', 'Ingest data from multiple databases into a single solr collection', '[solved]flume: no configuration found for this host', 'Pytest Cache Fixture with Pickle instead of JSON', 'Javascript/JQuery: Add text box when select list/dropdown value is &quot;other&quot;', 'can&#39;t include processing.js sketch to use and display phpmyadmin database images', '&quot;Failed to Decrypt&quot; Error 190 in Instagram Graph API', 'Marlin 2.0 Change Bed Size at Runtime', 'influence of number of partitions and mappers on accuracy of classification in Apache Spark', '[Discussion]Azure&#39;s most appropriate architecture for big data sharing and utilization', 'Data Type Conversions with SQL and sqlalchemy.types', 'AWS-serverless-express never resolving with promises', 'how to embed youtube live chat page with dark theme in my website', 'Karaf feature:install does nothing', 'Best way to collaborate with manager on R Markdown reports?', 'Suggestion of a realtime XML and JSON parser', 'How to set up az cli concrete version in Azure DevOps', 'Output of Requests for API in JSON/Dictionary format', 'Using Apache Hudi with Python/Pyspark', 'Parsing Nested JSON into a Spark DataFrame Using PySpark', 'Logging JWT Bearer authentication and validation in OWIN', 'Bugbounty/ Capture the flag tools and tricks?', 'How can I paginate Pagerduty REST API results when requesting incident lists?', 'Hugo or Grunt Handle Automatically Numbering Footnotes', 'Java ExecutorService threads with functions that don&#39;t support threading', 'Dynamics CRM - Copy Workflow for a different entity', 'How do I get the coordinates from CAShapeLayer', 'How can I resolve this error &quot;uncommitted xmin 1358613895 from before xid cutoff 1601650960 needs to be frozen&quot;', 'Failed to resolve: org.jetbrains.kotlin:kotlin-stdlib', 'Firestore security rule match path to a field in dictionary', 'Spark is not able read parquet file that is converted from csv', 'Cypher: Get Nodes with ONLY incoming or ONLY outgoing Edges (Start Nodes / End Nodes)', 'multiple users from editing the same form', 'Hibernate Search&#39;s Initial MassIndexer not working with Wepshphere 8.5, but works fine on TOMCAT', 'Puppeteer sharp is opening 2 chrome windows on incognito', 'Snow menu in Quill not hiding with v-if or v-show in vue.js', 'PyCharm run configurations not on main window', 'Progress Bar in C for an arbitrary long execution -- CONSOLE', '&quot;The input does not contain any JSON tokens&quot; when trying to update using API', 'Unable to use EntityFrameworkCore.DataEncryption', 'Building StockSharp under linux', 'How does one stop VS code from going into normal mode in Vim when doing normal copy `Cmd + c`?', 'xss prevention for form post in jsp', 'Users have no option to review my app in google play', 'Angular HttpClientModule undefined', 'How to count the amount of objects by id in a list using parse', 'Not receiving Microsoft Graph change notification', 'Full calendar on drag events -&gt; Uncaught TypeError: Cannot read property &#39;isWithinClipping&#39; of undefined', 'assign or copy paste values of some sheet1 cells to exact columns in sheet2 using loop which counter is value entered in column eg:A1 cell', 'jQuery is executing in the Chrome Extension content script but it returns undefined for the content of every element', 'White blank screen issue with cordova ios with cordova-plugin-ionic-webview or cordova-plugin-wkwebview-engine plugins', 'Adapt web-scraper JavaScript code for Puppeteer', 'java - Hibernate map component with multiple arrays', 'Weights in the python ODR fir', 'OWIN Startup class not detected', 'How can I set command line arugment in github action?', 'Using JSON with Progress 4GL and Javascript', 'Firebase - hold temporary data while being sent to cloud firestore', 'How to disable `Fast Refresh` in React native on Javascript (not using Developer Menu)', 'iOS 13.4 accessing MPMusicPlayerController.systemMusicPlayer crashes the app', 'SCSS pre-processor in Hugo', 'How can I make a Mojo::UserAgent websockets client work?', 'How to configure Mattermost Plugins', 'Trouble trying to run queued Github Actions', 'Unit Test: SetUp HtpContextAccessor.HttpContext.GetTokenAsync returns error: Unsupported expression Exception GetTokenAsync', 'Fragment doesn&#39;t get value from ViewModel', 'Elasticsearch python create alias from json', 'How to get rid of RSS link in Hugo template?', 'Bean Validation API in JPA', 'Interpolation methods when working with data from multiple pandas DataFrames?', 'npm install fails on node-gyp rebuild with ```gyp: No Xcode or CLT version detected!```', 'Difference Avro Vs Cloudevent Vs AsyncAPI | Best fit for Schema evolution and naming convention in kafka', 'How to reconstruct text entities with Hugging Face&#39;s transformers pipelines without IOB tags?', 'How to get top_level_parent() of an element in the Windows start menu?', 'Amazon Cognito Domain and CORS', 'Spring data rest application not getting data from database after implementing redis caching', 'How to get the number of cuts and the actual cuts that have been added to SCIP using a conshdlr in C++', 'Load RadComboBoxItemData[] from web Api in asp.net', 'i have written a python code which is not working very well with random text search', 'How to change the colour of random turtles in NetLogo']\n",
      "500\n"
     ]
    }
   ],
   "source": [
    "# all questions from the last month\n",
    "print(list_of_questions)\n",
    "print(len(list_of_questions))"
   ]
  },
  {
   "cell_type": "code",
   "execution_count": 20,
   "metadata": {},
   "outputs": [
    {
     "data": {
      "text/plain": [
       "500"
      ]
     },
     "execution_count": 20,
     "metadata": {},
     "output_type": "execute_result"
    }
   ],
   "source": [
    "len(answers['items'])"
   ]
  },
  {
   "cell_type": "code",
   "execution_count": 41,
   "metadata": {},
   "outputs": [
    {
     "name": "stdout",
     "output_type": "stream",
     "text": [
      "500\n"
     ]
    }
   ],
   "source": [
    "# using a for loop to add all answer_ids to a list of answers\n",
    "\n",
    "list_of_items_a = []\n",
    "list_of_answers = []\n",
    "\n",
    "for answer in answers['items']:\n",
    "    list_of_items_a.append(answers)\n",
    "\n",
    "for i in range(len(list_of_items_a)):\n",
    "    list_of_answers.append(list_of_items_a[i]['items'][i]['answer_id'])    \n",
    "    \n",
    "print(len(list_of_answers))\n",
    "\n"
   ]
  },
  {
   "cell_type": "code",
   "execution_count": 42,
   "metadata": {},
   "outputs": [
    {
     "name": "stdout",
     "output_type": "stream",
     "text": [
      "[60491590, 60600362, 60907777, 60752235, 60489462, 60929352, 60865726, 60844161, 60864373, 60867282, 60681078, 60864190, 60585283, 60649771, 60781921, 60555845, 60553901, 60750268, 60941845, 60840699, 60528630, 60878462, 60862212, 60899518, 60732593, 60651336, 60719311, 60736345, 60904522, 60923720, 60939603, 60734678, 60905860, 60864356, 60960034, 60529198, 60632848, 60713126, 60880996, 60524615, 60520726, 60854445, 60682012, 60737683, 60743305, 60728130, 60503869, 60958727, 60951445, 60946721, 60490863, 60595883, 60845267, 60843429, 60688119, 60502833, 60858634, 60886666, 60498843, 60779204, 60793671, 60944296, 60549140, 60934755, 60919479, 60773724, 60879927, 60918424, 60909074, 60923338, 60689016, 60704777, 60950714, 60837606, 60937478, 60685341, 60636703, 60623281, 60855052, 60625178, 60487107, 60778186, 60737494, 60868156, 60944592, 60926492, 60872181, 60856723, 60806862, 60591083, 60830921, 60650480, 60507518, 60921025, 60574005, 60835220, 60814762, 60823265, 60823478, 60500279, 60886065, 60565001, 60938100, 60867826, 60930786, 60562618, 60483984, 60647172, 60853748, 60840975, 60596405, 60858437, 60942198, 60869850, 60905772, 60855842, 60918042, 60952882, 60591460, 60942212, 60783719, 60536863, 60663461, 60955658, 60926309, 60879393, 60642521, 60745910, 60708579, 60920435, 60539818, 60920873, 60920943, 60946999, 60882536, 60845808, 60881346, 60912567, 60754612, 60700064, 60804962, 60645566, 60506358, 60894478, 60505701, 60831906, 60809044, 60584799, 60885985, 60910580, 60947041, 60561848, 60570030, 60921716, 60753033, 60934482, 60826922, 60812168, 60614197, 60675881, 60839673, 60805011, 60586755, 60877777, 60533994, 60768834, 60749620, 60859649, 60756903, 60680069, 60800181, 60776061, 60588688, 60899629, 60546034, 60592986, 60787698, 60566414, 60798382, 60581960, 60646794, 60753545, 60539557, 60574981, 60939930, 60900086, 60900267, 60872154, 60742722, 60794157, 60857394, 60743371, 60918482, 60719386, 60638400, 60756022, 60698697, 60679358, 60788253, 60506536, 60652860, 60903722, 60885326, 60868958, 60920347, 60883779, 60812427, 60577328, 60562185, 60591333, 60900767, 60775590, 60906716, 60858936, 60533913, 60924426, 60806205, 60886950, 60914105, 60815017, 60570518, 60571573, 60748101, 60521487, 60938162, 60920725, 60781845, 60839642, 60942535, 60919508, 60584726, 60579643, 60943428, 60869229, 60693802, 60585964, 60851628, 60700104, 60604611, 60547374, 60930491, 60683558, 60879859, 60747161, 60779995, 60843261, 60671951, 60906629, 60906621, 60748289, 60698092, 60489145, 60492086, 60736563, 60931112, 60869108, 60508171, 60874290, 60695301, 60559404, 60795592, 60953444, 60705505, 60663801, 60923867, 60700019, 60884669, 60796049, 60538621, 60744438, 60679796, 60570571, 60498021, 60889260, 60830131, 60784369, 60784906, 60786611, 60788675, 60689480, 60939207, 60859068, 60581465, 60814413, 60855157, 60614367, 60824581, 60487491, 60908788, 60887169, 60646967, 60526280, 60586543, 60712187, 60697670, 60673115, 60959016, 60936453, 60655321, 60620638, 60783584, 60492942, 60898213, 60558290, 60884198, 60870122, 60831660, 60944630, 60536827, 60858418, 60879849, 60924049, 60926214, 60946474, 60947727, 60951135, 60941480, 60799354, 60833071, 60910024, 60585462, 60651136, 60875777, 60588950, 60915285, 60509270, 60719759, 60815363, 60595832, 60902112, 60918880, 60904178, 60742330, 60804970, 60905995, 60498111, 60574398, 60954511, 60942760, 60551872, 60931286, 60896380, 60876347, 60862164, 60749176, 60536803, 60539704, 60933861, 60573761, 60873025, 60551217, 60866589, 60784065, 60557249, 60886803, 60584866, 60924062, 60877740, 60573694, 60947880, 60735648, 60660080, 60480857, 60913637, 60671460, 60838992, 60928028, 60877613, 60884035, 60651253, 60520331, 60673080, 60930263, 60887167, 60596462, 60485096, 60500721, 60519020, 60519681, 60541369, 60557852, 60631045, 60632593, 60633601, 60648952, 60665111, 60665744, 60668735, 60755311, 60825239, 60862181, 60881722, 60882767, 60926970, 60945135, 60945679, 60946671, 60839034, 60736742, 60921182, 60883973, 60840676, 60928633, 60731772, 60845390, 60811408, 60870021, 60509201, 60631932, 60844226, 60852706, 60678484, 60646330, 60851237, 60924235, 60727095, 60543102, 60492425, 60611795, 60678276, 60812129, 60942309, 60859669, 60803582, 60710005, 60492240, 60859407, 60942963, 60480459, 60853512, 60612506, 60860453, 60782317, 60890638, 60830635, 60757037, 60913420, 60823149, 60924424, 60958352, 60810574, 60556533, 60856901, 60909352, 60692494, 60553838, 60887588, 60884840, 60567060, 60896165, 60586455, 60911595, 60956578, 60773366, 60790169, 60861438, 60849637, 60918864, 60929275, 60941217, 60865108, 60549705, 60647446, 60683421, 60800622, 60947837, 60933785, 60871274, 60936376, 60957658, 60621544, 60945492, 60904087, 60887871, 60617280, 60705959, 60820137, 60708511, 60865920, 60541636, 60711489, 60953781, 60505290, 60859730, 60707084, 60869050, 60930025, 60921880, 60732355, 60594738, 60954811, 60743085, 60786459, 60894228, 60952672, 60642459, 60894597, 60924748, 60958473, 60906173]\n"
     ]
    }
   ],
   "source": [
    "# all answers from the last month\n",
    "print(list_of_answers)"
   ]
  },
  {
   "cell_type": "markdown",
   "metadata": {},
   "source": [
    "#### Question 2: Find the most voted question today with at least a score of 5 and tagged with 'python'. "
   ]
  },
  {
   "cell_type": "code",
   "execution_count": 47,
   "metadata": {},
   "outputs": [
    {
     "name": "stdout",
     "output_type": "stream",
     "text": [
      "1586901600.0\n"
     ]
    }
   ],
   "source": [
    "# your code here\n",
    "# determining yesterday's timestamp, because today there weren't many questions yet\n",
    "print(time.mktime(time.strptime('15/04/2020', \"%d/%m/%Y\")))"
   ]
  },
  {
   "cell_type": "code",
   "execution_count": 48,
   "metadata": {},
   "outputs": [
    {
     "data": {
      "text/plain": [
       "{'backoff': 0,\n",
       " 'has_more': False,\n",
       " 'page': 1,\n",
       " 'quota_max': 300,\n",
       " 'quota_remaining': 300,\n",
       " 'total': 0,\n",
       " 'items': [{'tags': ['python', 'python-3.x', 'pandas'],\n",
       "   'owner': {'reputation': 97,\n",
       "    'user_id': 13200458,\n",
       "    'user_type': 'registered',\n",
       "    'profile_image': 'https://graph.facebook.com/3316294248399872/picture?type=large',\n",
       "    'display_name': 'Murtaza Basu',\n",
       "    'link': 'https://stackoverflow.com/users/13200458/murtaza-basu'},\n",
       "   'is_answered': True,\n",
       "   'view_count': 35,\n",
       "   'accepted_answer_id': 61239110,\n",
       "   'answer_count': 1,\n",
       "   'score': 5,\n",
       "   'last_activity_date': 1586987068,\n",
       "   'creation_date': 1586985431,\n",
       "   'last_edit_date': 1586986123,\n",
       "   'question_id': 61238758,\n",
       "   'link': 'https://stackoverflow.com/questions/61238758/how-to-create-a-new-column-for-each-unique-component-in-a-given-column-of-a-data',\n",
       "   'title': 'How to create a new column for each unique component in a given column of a dataframe in Pandas?'},\n",
       "  {'tags': ['python', 'python-3.x', 'pandas'],\n",
       "   'owner': {'reputation': 98,\n",
       "    'user_id': 3782095,\n",
       "    'user_type': 'registered',\n",
       "    'profile_image': 'https://www.gravatar.com/avatar/4ec96bde1a39698333a511d0b6419669?s=128&d=identicon&r=PG&f=1',\n",
       "    'display_name': 'user3782095',\n",
       "    'link': 'https://stackoverflow.com/users/3782095/user3782095'},\n",
       "   'is_answered': True,\n",
       "   'view_count': 19,\n",
       "   'accepted_answer_id': 61227727,\n",
       "   'answer_count': 1,\n",
       "   'score': 5,\n",
       "   'last_activity_date': 1586950691,\n",
       "   'creation_date': 1586950279,\n",
       "   'question_id': 61227617,\n",
       "   'link': 'https://stackoverflow.com/questions/61227617/applying-built-in-and-custom-created-functions-on-dataset',\n",
       "   'title': 'Applying built-in and custom created functions on dataset'}]}"
      ]
     },
     "execution_count": 48,
     "metadata": {},
     "output_type": "execute_result"
    }
   ],
   "source": [
    "most_voted_questions = site.fetch('questions', fromdate=1586901600, min=5, tagged='python', sort='votes')\n",
    "most_voted_questions"
   ]
  },
  {
   "cell_type": "markdown",
   "metadata": {},
   "source": [
    "#### Question 3: Find the answers with id 6784 and 6473."
   ]
  },
  {
   "cell_type": "code",
   "execution_count": 49,
   "metadata": {},
   "outputs": [
    {
     "data": {
      "text/plain": [
       "{'backoff': 0,\n",
       " 'has_more': False,\n",
       " 'page': 1,\n",
       " 'quota_max': 300,\n",
       " 'quota_remaining': 300,\n",
       " 'total': 0,\n",
       " 'items': [{'owner': {'reputation': 28695,\n",
       "    'user_id': 758,\n",
       "    'user_type': 'registered',\n",
       "    'accept_rate': 77,\n",
       "    'profile_image': 'https://www.gravatar.com/avatar/0b4adc19284ed0751844d610555dc6b2?s=128&d=identicon&r=PG',\n",
       "    'display_name': 'Mark Renouf',\n",
       "    'link': 'https://stackoverflow.com/users/758/mark-renouf'},\n",
       "   'is_accepted': False,\n",
       "   'score': 0,\n",
       "   'last_activity_date': 1218291583,\n",
       "   'creation_date': 1218291583,\n",
       "   'answer_id': 6784,\n",
       "   'question_id': 6778}]}"
      ]
     },
     "execution_count": 49,
     "metadata": {},
     "output_type": "execute_result"
    }
   ],
   "source": [
    "# particular answer ids\n",
    "particular_answers = site.fetch('answers', ids = [6784, 6473])\n",
    "particular_answers\n"
   ]
  }
 ],
 "metadata": {
  "kernelspec": {
   "display_name": "Python 3",
   "language": "python",
   "name": "python3"
  },
  "language_info": {
   "codemirror_mode": {
    "name": "ipython",
    "version": 3
   },
   "file_extension": ".py",
   "mimetype": "text/x-python",
   "name": "python",
   "nbconvert_exporter": "python",
   "pygments_lexer": "ipython3",
   "version": "3.7.6"
  }
 },
 "nbformat": 4,
 "nbformat_minor": 2
}
